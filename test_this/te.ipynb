{
 "cells": [
  {
   "cell_type": "code",
   "execution_count": 1,
   "id": "0d3bc69a-6359-498e-a57d-5452adf15a20",
   "metadata": {},
   "outputs": [],
   "source": [
    "import numpy as np"
   ]
  },
  {
   "cell_type": "code",
   "execution_count": 3,
   "id": "da09e61e-1f17-4d0a-a14e-b8a79d959289",
   "metadata": {},
   "outputs": [
    {
     "name": "stdout",
     "output_type": "stream",
     "text": [
      "HELPL\n"
     ]
    }
   ],
   "source": [
    "print(\"HELPL\")"
   ]
  },
  {
   "cell_type": "code",
   "execution_count": null,
   "id": "dfdd0f06-2c73-441b-839e-464cba1c4cff",
   "metadata": {},
   "outputs": [],
   "source": []
  }
 ],
 "metadata": {
  "kernelspec": {
   "display_name": "master",
   "language": "python",
   "name": "master"
  },
  "language_info": {
   "codemirror_mode": {
    "name": "ipython",
    "version": 3
   },
   "file_extension": ".py",
   "mimetype": "text/x-python",
   "name": "python",
   "nbconvert_exporter": "python",
   "pygments_lexer": "ipython3",
   "version": "3.9.21"
  }
 },
 "nbformat": 4,
 "nbformat_minor": 5
}
